{
 "cells": [
  {
   "cell_type": "code",
   "execution_count": 4,
   "metadata": {},
   "outputs": [
    {
     "name": "stdout",
     "output_type": "stream",
     "text": [
      "[Todo_items(id = 1,title='Do my homework',detail = 'Uniuni',complete = False)]\n"
     ]
    }
   ],
   "source": [
    "from sqlalchemy import create_engine,select\n",
    "\n",
    "from sqlalchemy.ext.asyncio import async_sessionmaker,create_async_engine,AsyncSession\n",
    "\n",
    "\n",
    "\n",
    "engine = create_async_engine(\"sqlite+aiosqlite:///todo.db\")\n",
    "\n",
    "\n",
    "# engine = create_engine(\"sqlite:///:memory:\")\n",
    "\n",
    "from sqlalchemy.orm import DeclarativeBase,Mapped,mapped_column\n",
    "from sqlalchemy.types import String\n",
    "from typing import Optional\n",
    "class Base(DeclarativeBase):\n",
    "    pass\n",
    "\n",
    "class todo_items(Base):\n",
    "    __tablename__ = \"todo_items\"\n",
    "\n",
    "    id : Mapped[int] = mapped_column(primary_key=True,autoincrement=True)\n",
    "    title : Mapped[str] = mapped_column(String(30),nullable=False)\n",
    "    detail : Mapped[Optional[str]]\n",
    "    complete : Mapped[bool] = mapped_column(default=False)\n",
    "\n",
    "    def __repr__(self) -> str:\n",
    "        return f\"Todo_items(id = {self.id!r},title={self.title!r},detail = {self.detail!r},complete = {self.complete})\"\n",
    "\n",
    "\n",
    "AsyncSession = async_sessionmaker(engine)\n",
    "\n",
    "stmt = select(todo_items)\n",
    "async with AsyncSession() as session:\n",
    "        \n",
    "        result = await session.execute(stmt)\n",
    "        tasks = result.scalars().all()\n",
    "\n",
    "        print(tasks)"
   ]
  }
 ],
 "metadata": {
  "kernelspec": {
   "display_name": "env",
   "language": "python",
   "name": "python3"
  },
  "language_info": {
   "codemirror_mode": {
    "name": "ipython",
    "version": 3
   },
   "file_extension": ".py",
   "mimetype": "text/x-python",
   "name": "python",
   "nbconvert_exporter": "python",
   "pygments_lexer": "ipython3",
   "version": "3.11.5"
  },
  "orig_nbformat": 4
 },
 "nbformat": 4,
 "nbformat_minor": 2
}
