{
 "cells": [
  {
   "cell_type": "code",
   "execution_count": 58,
   "metadata": {},
   "outputs": [],
   "source": [
    "from sqlalchemy.types import String\n",
    "from typing import List\n",
    "from typing import Optional\n",
    "from sqlalchemy.orm import Mapped,mapped_column\n",
    "\n",
    "from sqlalchemy.orm import DeclarativeBase\n"
   ]
  },
  {
   "cell_type": "code",
   "execution_count": 59,
   "metadata": {},
   "outputs": [],
   "source": [
    "class Base(DeclarativeBase):\n",
    "    pass\n",
    "\n",
    "class todo_items(Base):\n",
    "    __tablename__ = \"todo_items\"\n",
    "\n",
    "    id : Mapped[int] = mapped_column(primary_key=True,autoincrement=True)\n",
    "    title : Mapped[str] = mapped_column(String(30),nullable=False)\n",
    "    detail : Mapped[Optional[str]]\n",
    "    complete : Mapped[bool] = mapped_column(default=False)\n",
    "\n",
    "    def __repr__(self) -> str:\n",
    "        return f\"Todo_items(id = {self.id!r},title={self.title!r},detail = {self.detail!r},complete = {self.complete})\""
   ]
  },
  {
   "cell_type": "code",
   "execution_count": null,
   "metadata": {},
   "outputs": [],
   "source": []
  },
  {
   "cell_type": "code",
   "execution_count": 60,
   "metadata": {},
   "outputs": [],
   "source": [
    "from sqlalchemy import create_engine\n",
    "# engine = create_engine(\"sqlite:///:memory:\")\n",
    "engine = create_engine(\"sqlite:///todo.db\")"
   ]
  },
  {
   "cell_type": "code",
   "execution_count": 61,
   "metadata": {},
   "outputs": [],
   "source": [
    "Base.metadata.create_all(engine)"
   ]
  },
  {
   "cell_type": "code",
   "execution_count": 62,
   "metadata": {},
   "outputs": [],
   "source": [
    "from sqlalchemy.orm import sessionmaker\n",
    "Session = sessionmaker(engine)\n",
    "\n",
    "with Session() as session:\n",
    "\n",
    "    homework = todo_items(title = \"Do my homework\",detail = \"Uniuni\")\n",
    "    session.add(homework)\n",
    "    session.commit()\n"
   ]
  },
  {
   "cell_type": "code",
   "execution_count": 63,
   "metadata": {},
   "outputs": [],
   "source": [
    "with Session() as session:\n",
    "\n",
    "    homework = todo_items(title = \"Mkihr\",detail = \"GotoGoto\")\n",
    "    session.add(homework)\n",
    "    session.commit()\n"
   ]
  },
  {
   "cell_type": "code",
   "execution_count": null,
   "metadata": {},
   "outputs": [],
   "source": [
    "\n",
    "with Session() as session:\n",
    "\n",
    "    homework = todo_items(title = \"OnYourMark\",detail = \"GetSet,GO!\")\n",
    "    session.add(homework)\n",
    "    session.commit()"
   ]
  },
  {
   "cell_type": "code",
   "execution_count": 55,
   "metadata": {},
   "outputs": [
    {
     "name": "stdout",
     "output_type": "stream",
     "text": [
      "Todo_items(id = 1,title='Do my homework',detail = 'Uniuni',complete = False)\n"
     ]
    }
   ],
   "source": [
    "from sqlalchemy import select\n",
    "with Session() as session:\n",
    "\n",
    "    stmt = select(todo_items)\n",
    "\n",
    "    result = session.scalars(stmt)\n",
    "\n",
    "    for todo in result:\n",
    "        print(todo)\n",
    "\n",
    "\n",
    "\n",
    "\n",
    "    "
   ]
  },
  {
   "cell_type": "code",
   "execution_count": 44,
   "metadata": {},
   "outputs": [
    {
     "name": "stdout",
     "output_type": "stream",
     "text": [
      "Todo_items(id = 1,title='Do my homework',detail = 'Uniuni done....',complete = True)\n"
     ]
    }
   ],
   "source": [
    "with Session() as session:\n",
    "    stmt = select(Todo_items).where(Todo_items.id==1)\n",
    "    homework = session.scalar(stmt)\n",
    "    if isinstance(homework,Todo_items) :\n",
    "        homework.complete = True\n",
    "        homework.detail = \"Uniuni done....\"\n",
    "\n",
    "        print(homework)\n",
    "    session.commit()\n",
    "\n"
   ]
  },
  {
   "cell_type": "code",
   "execution_count": 45,
   "metadata": {},
   "outputs": [],
   "source": [
    "\n",
    "with Session() as session:\n",
    "\n",
    "    homework = session.get(Todo_items,1)\n",
    "    session.delete(homework)\n",
    "    session.commit()"
   ]
  },
  {
   "cell_type": "code",
   "execution_count": 46,
   "metadata": {},
   "outputs": [],
   "source": [
    "with Session() as session:\n",
    "\n",
    "    stmt = select(Todo_items)\n",
    "\n",
    "    result = session.scalars(stmt)\n",
    "\n",
    "    for todo in result:\n",
    "        print(todo)"
   ]
  }
 ],
 "metadata": {
  "kernelspec": {
   "display_name": "env",
   "language": "python",
   "name": "python3"
  },
  "language_info": {
   "codemirror_mode": {
    "name": "ipython",
    "version": 3
   },
   "file_extension": ".py",
   "mimetype": "text/x-python",
   "name": "python",
   "nbconvert_exporter": "python",
   "pygments_lexer": "ipython3",
   "version": "3.11.5"
  },
  "orig_nbformat": 4
 },
 "nbformat": 4,
 "nbformat_minor": 2
}
